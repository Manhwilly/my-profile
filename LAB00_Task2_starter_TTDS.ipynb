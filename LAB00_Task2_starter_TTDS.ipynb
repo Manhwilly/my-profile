{
 "cells": [
  {
   "cell_type": "markdown",
   "id": "f2f30041",
   "metadata": {},
   "source": [
    "## Lab 00_Task 2: Introduction to Jupyter & first data exploration\n",
    "Sermet Mir"
   ]
  },
  {
   "cell_type": "markdown",
   "id": "2151894c",
   "metadata": {},
   "source": [
    "This is an example notebook similar to what you will be working with during this unit."
   ]
  },
  {
   "cell_type": "markdown",
   "id": "831077a9",
   "metadata": {},
   "source": [
    "Note that some of the cells are executable codes and some like this one provide descriptions (and the formatting is done using **markdown**. If you double click on this text you can see the markdown script). "
   ]
  },
  {
   "cell_type": "markdown",
   "id": "911cc037",
   "metadata": {},
   "source": [
    "Okay, let's start!\n",
    "The first code cells that you encounter in a jupyter notebook usually setup the environment by importing the required libraries:"
   ]
  },
  {
   "cell_type": "markdown",
   "id": "9ce1365e",
   "metadata": {},
   "source": [
    "## Setup"
   ]
  },
  {
   "cell_type": "code",
   "execution_count": 1,
   "id": "cdc4e3eb",
   "metadata": {},
   "outputs": [],
   "source": [
    "import pandas as pd # pandas is the name of your library and the `as pd` part gives it the alias `pd`\n",
    "import matplotlib.pyplot as plt # here, matplotlib.pyplot is the name of your library (or more specifically a package within the library matplotlib) and we have given it the alias `plt` \n",
    "from sklearn.datasets import load_iris # From sklearn.datasets you only want to improt a single function"
   ]
  },
  {
   "cell_type": "markdown",
   "id": "a6f60429",
   "metadata": {},
   "source": [
    "We shall talk about the above libraries later in the unit but for now let's continue..."
   ]
  },
  {
   "cell_type": "markdown",
   "id": "21570877",
   "metadata": {},
   "source": [
    "## Load the data"
   ]
  },
  {
   "cell_type": "markdown",
   "id": "5376c8ce",
   "metadata": {},
   "source": [
    "Our examples usually always include some data. So let's go ahead and import the data:"
   ]
  },
  {
   "cell_type": "code",
   "execution_count": 2,
   "id": "997830f5",
   "metadata": {},
   "outputs": [],
   "source": [
    "data = load_iris()"
   ]
  },
  {
   "cell_type": "markdown",
   "id": "e0e48a72",
   "metadata": {},
   "source": [
    "Some more information about this data set can be found [here](https://scikit-learn.org/stable/modules/generated/sklearn.datasets.load_iris.html)\n",
    "We can for example see that the data is made out of two main parts, two arrays of: 1) data and 2) target."
   ]
  },
  {
   "cell_type": "code",
   "execution_count": 3,
   "id": "4a7765bc",
   "metadata": {},
   "outputs": [],
   "source": [
    "X = data.data\n",
    "y = data.target"
   ]
  },
  {
   "cell_type": "markdown",
   "id": "9e93f428",
   "metadata": {},
   "source": [
    "The simplest way to have a look at this data is to just type the name of the variable:"
   ]
  },
  {
   "cell_type": "code",
   "execution_count": null,
   "id": "64e6f31c",
   "metadata": {},
   "outputs": [],
   "source": [
    "X"
   ]
  },
  {
   "cell_type": "code",
   "execution_count": null,
   "id": "5bb9e45b",
   "metadata": {},
   "outputs": [],
   "source": []
  },
  {
   "cell_type": "code",
   "execution_count": null,
   "id": "a8f2a865",
   "metadata": {},
   "outputs": [],
   "source": [
    "y"
   ]
  },
  {
   "cell_type": "code",
   "execution_count": null,
   "id": "25622d33",
   "metadata": {},
   "outputs": [],
   "source": []
  },
  {
   "cell_type": "markdown",
   "id": "9d970bfd",
   "metadata": {},
   "source": [
    "What do X and y look like?"
   ]
  },
  {
   "cell_type": "markdown",
   "id": "8b7f6168",
   "metadata": {},
   "source": [
    "## Organise and explore the data"
   ]
  },
  {
   "cell_type": "markdown",
   "id": "8e94d4e5",
   "metadata": {},
   "source": [
    "Let's now organise this data a little bit better"
   ]
  },
  {
   "cell_type": "code",
   "execution_count": 4,
   "id": "74e518ed",
   "metadata": {},
   "outputs": [],
   "source": [
    "df_iris = pd.DataFrame(data= X, columns= data.feature_names)"
   ]
  },
  {
   "cell_type": "code",
   "execution_count": null,
   "id": "a570c669",
   "metadata": {},
   "outputs": [],
   "source": [
    "df_iris"
   ]
  },
  {
   "cell_type": "code",
   "execution_count": null,
   "id": "c2914d13",
   "metadata": {},
   "outputs": [],
   "source": []
  },
  {
   "cell_type": "markdown",
   "id": "e21daf44",
   "metadata": {},
   "source": [
    "These are our data items, the features that describe each iris flower."
   ]
  },
  {
   "cell_type": "markdown",
   "id": "df631c4a",
   "metadata": {},
   "source": [
    "These flowers belong to different subspecies of iris, so let's go ahead and add that to our data: "
   ]
  },
  {
   "cell_type": "code",
   "execution_count": 5,
   "id": "2920d758",
   "metadata": {},
   "outputs": [],
   "source": [
    "df_iris['class'] = pd.Series(data.target_names[y])"
   ]
  },
  {
   "cell_type": "markdown",
   "id": "d713c7d7",
   "metadata": {},
   "source": [
    "Let's look at our data frame (we will talk more about data frames later) again:"
   ]
  },
  {
   "cell_type": "code",
   "execution_count": null,
   "id": "5d326005",
   "metadata": {},
   "outputs": [],
   "source": [
    "df_iris"
   ]
  },
  {
   "cell_type": "code",
   "execution_count": null,
   "id": "a939ca63",
   "metadata": {},
   "outputs": [],
   "source": []
  },
  {
   "cell_type": "markdown",
   "id": "5c56f5d4",
   "metadata": {},
   "source": [
    "what has changed?"
   ]
  },
  {
   "cell_type": "markdown",
   "id": "41c0360b",
   "metadata": {},
   "source": [
    "Two useful functions for investigating your data frames are: `info` and `describe`:"
   ]
  },
  {
   "cell_type": "code",
   "execution_count": null,
   "id": "12680d34",
   "metadata": {},
   "outputs": [],
   "source": [
    "df_iris.info()"
   ]
  },
  {
   "cell_type": "code",
   "execution_count": null,
   "id": "e06cacaf",
   "metadata": {},
   "outputs": [],
   "source": []
  },
  {
   "cell_type": "code",
   "execution_count": null,
   "id": "ae5cad99",
   "metadata": {
    "scrolled": true
   },
   "outputs": [],
   "source": [
    "df_iris.describe()"
   ]
  },
  {
   "cell_type": "code",
   "execution_count": null,
   "id": "cee31241",
   "metadata": {},
   "outputs": [],
   "source": []
  },
  {
   "cell_type": "markdown",
   "id": "c94014dd",
   "metadata": {},
   "source": [
    "What information do these functions show?"
   ]
  },
  {
   "cell_type": "markdown",
   "id": "08e42b16",
   "metadata": {},
   "source": [
    "We can also plot this data. Let's just plot the petal length and widths:"
   ]
  },
  {
   "cell_type": "code",
   "execution_count": 6,
   "id": "605063fc",
   "metadata": {},
   "outputs": [
    {
     "data": {
      "text/plain": [
       "<matplotlib.legend.Legend at 0x7fd9a5d78e50>"
      ]
     },
     "execution_count": 6,
     "metadata": {},
     "output_type": "execute_result"
    },
    {
     "data": {
      "image/png": "[encoded data removed]",
      "text/plain": [
       "<Figure size 576x360 with 1 Axes>"
      ]
     },
     "metadata": {
      "needs_background": "light"
     },
     "output_type": "display_data"
    }
   ],
   "source": [
    "plt.figure(figsize=(8, 5))\n",
    "\n",
    "plt.plot(X[y==0, 2], X[y==0, 3], \"yo\", label=\"Iris setosa\")\n",
    "plt.plot(X[y==1, 2], X[y==1, 3], \"bs\", label=\"Iris versicolor\")\n",
    "plt.plot(X[y==2, 2], X[y==2, 3], \"g^\", label=\"Iris virginica\")\n",
    "plt.xlabel(\"Petal length\", fontsize=14)\n",
    "plt.ylabel(\"Petal width\", fontsize=14)\n",
    "plt.legend(fontsize=12)\n"
   ]
  }
 ],
 "metadata": {
  "kernelspec": {
   "display_name": "Python 3 (ipykernel)",
   "language": "python",
   "name": "python3"
  },
  "language_info": {
   "codemirror_mode": {
    "name": "ipython",
    "version": 3
   },
   "file_extension": ".py",
   "mimetype": "text/x-python",
   "name": "python",
   "nbconvert_exporter": "python",
   "pygments_lexer": "ipython3",
   "version": "3.11.5"
  }
 },
 "nbformat": 4,
 "nbformat_minor": 5
}
